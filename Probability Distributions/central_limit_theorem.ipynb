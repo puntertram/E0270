{
 "cells": [
  {
   "cell_type": "markdown",
   "metadata": {},
   "source": [
    "We demonstrate the central limit theorem"
   ]
  },
  {
   "cell_type": "code",
   "execution_count": 42,
   "metadata": {},
   "outputs": [],
   "source": [
    "import matplotlib as mpl\n",
    "import matplotlib.pyplot as plt\n",
    "import numpy as np\n",
    "import scipy.stats as scpst\n",
    "%matplotlib inline "
   ]
  },
  {
   "cell_type": "code",
   "execution_count": 23,
   "metadata": {},
   "outputs": [
    {
     "data": {
      "text/plain": [
       "4"
      ]
     },
     "execution_count": 23,
     "metadata": {},
     "output_type": "execute_result"
    }
   ],
   "source": [
    "def bernoulli(val, p):\n",
    "    # bernoulli trials\n",
    "    return (p ** val) * ((1 - p) ** (1 - val))\n",
    "\n",
    "\n",
    "BIN_N = 4\n",
    "\n",
    "def get_prob(N, p):\n",
    "    val = N\n",
    "    ans = 1.0\n",
    "    while val != 0:\n",
    "        dig = val % BIN_N\n",
    "        # print(dig)\n",
    "        ans *= scpst.binom.pmf(dig, BIN_N, p)\n",
    "        val //= BIN_N\n",
    "    return ans \n",
    "\n",
    "def sum_digits(N):\n",
    "    val = N\n",
    "    ans = 0\n",
    "    while val != 0:\n",
    "        dig = val % BIN_N\n",
    "        # print(dig)\n",
    "        ans += dig\n",
    "        val //= BIN_N\n",
    "    return ans \n",
    "get_prob(12, 0.5)\n",
    "sum_digits(15)"
   ]
  },
  {
   "cell_type": "code",
   "execution_count": 37,
   "metadata": {},
   "outputs": [],
   "source": [
    "def plot_one_episode(N):\n",
    "    fig, ax = plt.subplots()\n",
    "\n",
    "    _xs = [sum_digits(i) for i in range((2 ** N))]\n",
    "    _ys = [get_prob(i, 0.2) for i in range(2 ** N)]\n",
    "    _holder = {}\n",
    "    for i in range(2 ** N):\n",
    "        try:\n",
    "            _holder[_xs[i]] += _ys[i]\n",
    "        except KeyError:\n",
    "            _holder[_xs[i]] = 0\n",
    "    ax.plot(list(_holder.keys()), list(_holder.values()))\n",
    "    plt.plot()"
   ]
  },
  {
   "cell_type": "code",
   "execution_count": 40,
   "metadata": {},
   "outputs": [
    {
     "data": {
      "image/png": "[encoded data removed]",
      "text/plain": [
       "<Figure size 432x288 with 1 Axes>"
      ]
     },
     "metadata": {
      "needs_background": "light"
     },
     "output_type": "display_data"
    }
   ],
   "source": [
    "plot_one_episode(20)"
   ]
  }
 ],
 "metadata": {
  "interpreter": {
   "hash": "5b3ded1ccb95c1d9bd405e7b823d9e85424cde40fbb5985eb47e999ef50e15b4"
  },
  "kernelspec": {
   "display_name": "Python 3.8.10 64-bit",
   "language": "python",
   "name": "python3"
  },
  "language_info": {
   "codemirror_mode": {
    "name": "ipython",
    "version": 3
   },
   "file_extension": ".py",
   "mimetype": "text/x-python",
   "name": "python",
   "nbconvert_exporter": "python",
   "pygments_lexer": "ipython3",
   "version": "3.8.10"
  },
  "orig_nbformat": 4
 },
 "nbformat": 4,
 "nbformat_minor": 2
}
